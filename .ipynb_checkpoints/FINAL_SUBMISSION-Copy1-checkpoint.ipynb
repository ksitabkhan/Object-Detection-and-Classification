{
 "cells": [
  {
   "cell_type": "markdown",
   "metadata": {},
   "source": [
    "<h1><center>Case Studies Assignment 1</center></h1>\n",
    "<h2><center> Object Detection and Classification</center></h2>\n",
    "<h3><center> Khadija Sitabkhan - 20236001</center></h3>"
   ]
  },
  {
   "cell_type": "markdown",
   "metadata": {},
   "source": [
    "The Object of the code below is to understand and implement the following concepts:\n",
    "1. Image detection using Tiny-YOLO Model\n",
    "2. Image classification by understanding the concepts of Transfer learning using keras sequential model"
   ]
  },
  {
   "cell_type": "code",
   "execution_count": 1,
   "metadata": {},
   "outputs": [],
   "source": [
    "import cv2\n",
    "import numpy as np\n",
    "import pandas as pd\n",
    "import time\n",
    "import sys\n",
    "import PIL.Image as Image\n",
    "import os\n",
    "import matplotlib.pylab as plt\n",
    "\n",
    "import tensorflow as tf\n",
    "import tensorflow_hub as hub\n",
    "\n",
    "from tensorflow import keras\n",
    "from tensorflow.keras import layers\n",
    "from tensorflow.keras.models import Sequential\n",
    "import pathlib\n",
    "from sklearn.model_selection import train_test_split"
   ]
  },
  {
   "cell_type": "markdown",
   "metadata": {},
   "source": [
    "The below lines are commented as they do not need to be run each time. \n",
    "They are using to install the bing-image downloader library which is used to download images for training our Keras Sequential Model"
   ]
  },
  {
   "cell_type": "code",
   "execution_count": 2,
   "metadata": {},
   "outputs": [],
   "source": [
    "# !pip install bing-image-downloader  #[2]\n",
    "# from bing_image_downloader import downloader\n",
    "# query_string=\"sedan\"\n",
    "# downloader.download(query_string, limit=500,  output_dir='dataset', adult_filter_off=True, force_replace=False, timeout=60)"
   ]
  },
  {
   "cell_type": "code",
   "execution_count": 3,
   "metadata": {},
   "outputs": [],
   "source": [
    "# query_string=\"suv\"\n",
    "# downloader.download(query_string, limit=500,  output_dir='dataset', adult_filter_off=True, force_replace=False, timeout=60)"
   ]
  },
  {
   "cell_type": "markdown",
   "metadata": {},
   "source": [
    "The global dictionary is created which will store the classes of detection. \n",
    "<br> Since we have only two classes we can have 0 assigned to sedan and 1 assigned to SUV type cars. \n",
    "<br> Softmax activation function is not used since we have just two classes."
   ]
  },
  {
   "cell_type": "code",
   "execution_count": 4,
   "metadata": {},
   "outputs": [],
   "source": [
    "car_label_dictionary = {\n",
    "    'sedan' : 0,\n",
    "    'suv' : 1\n",
    "  }"
   ]
  },
  {
   "cell_type": "markdown",
   "metadata": {},
   "source": [
    "**object_classification** class is used to train the Keras sequential model for detecting the sedan or SUV cars. \n",
    "1. Keras sequential is one of the many algorithms present in tensorflow keras. It is used to implement a simple feed forward neural network\n",
    "2. We load the images from 2 seperate directories, one being sedan and the other being SUV\n",
    "3. These images are stored in the form of numpy arrays containing integers. \n",
    "4. They are then passed to the sequential model for training \n",
    "5. The weights then calculated using the training set are used to evaluate the model on the test data. \n",
    "6. an Accuracy of 98.95% is obtained on the test data.\n",
    "7. We flatten the images first into one numpy array\n",
    "8. Two hidden layers are implemented first one of 128 nodes and the second one having 64 nodes. "
   ]
  },
  {
   "cell_type": "code",
   "execution_count": 5,
   "metadata": {},
   "outputs": [],
   "source": [
    "class object_classification: ## [3] Transfer learning\n",
    "\n",
    "    def __init__ (self):\n",
    "        self.IMAGE_SHAPE=(224,224)\n",
    "        self.classifier = tf.keras.Sequential([hub.KerasLayer(\"https://tfhub.dev/google/tf2-preview/mobilenet_v2/classification/4\", input_shape=self.IMAGE_SHAPE+(3,))])\n",
    "\n",
    "    def TrainClassifier(self):\n",
    "        data_dir=pathlib.Path(\".\\\\dataset\")\n",
    "        #list(data_dir.glob('*/*.jp*g'))[:5]\n",
    "        image_count = len(list(data_dir.glob('*/*g')))\n",
    "        print(\"Image count in Data set is \",image_count)\n",
    "        sedan = list(data_dir.glob('sedan/*'))\n",
    "        #sedan[:5]\n",
    "        suv = list(data_dir.glob('suv/*'))\n",
    "        #suv[:5]\n",
    "        car_dictionary = {\n",
    "            'suv' : list(data_dir.glob(\"suv/*\")),\n",
    "            'sedan': list(data_dir.glob(\"sedan/*\"))\n",
    "        }\n",
    "        car_label_dictionary = {\n",
    "            'sedan' : 0,\n",
    "            'suv' : 1\n",
    "        }\n",
    "        X, y = [], []\n",
    "\n",
    "        for car_name, images in car_dictionary.items():\n",
    "            for image in images:\n",
    "                img = cv2.imread(str(image))\n",
    "                resized_img = cv2.resize(img,self.IMAGE_SHAPE)\n",
    "                X.append(resized_img)\n",
    "                y.append(car_label_dictionary[car_name])\n",
    "        X=np.array(X)\n",
    "        y=np.array(y)\n",
    "        X_train,X_test , y_train, y_test = train_test_split(X,y,random_state=0,test_size=0.3)\n",
    "        X_train,X_val , y_train, y_val = train_test_split(X_train,y_train,random_state=0,test_size=0.3)\n",
    "        X_val_scaled = X_val/255\n",
    "        X_train_scaled= X_train/255\n",
    "        X_test_scaled = X_test/255\n",
    "        #Getting the feature extractor model\n",
    "        feature_extracter_model = \"https://tfhub.dev/google/tf2-preview/mobilenet_v2/feature_vector/4\"\n",
    "\n",
    "        pretrained_model_without_top_layer = hub.KerasLayer(\n",
    "            feature_extracter_model, input_shape=(224, 224, 3), trainable=False)\n",
    "        num_of_cars = 2\n",
    "        self.model = tf.keras.Sequential([\n",
    "            pretrained_model_without_top_layer,\n",
    "            layers.Flatten(),    \n",
    "            layers.Dense(128, activation='relu'), \n",
    "#             layers.Dense(64, activation='relu'),\n",
    "            tf.keras.layers.Dense(num_of_cars)\n",
    "        ])\n",
    "        self.model.summary() #This prints the summary as to how many trainable parameters are present from the total params\n",
    "        self.model.compile(optimizer=\"adam\", # Adam optimiser is used\n",
    "            loss=tf.keras.losses.SparseCategoricalCrossentropy(from_logits=True),\n",
    "            metrics=['acc'])\n",
    "        self.model.fit(X_train_scaled, y_train, epochs=10)\n",
    "        print(\"Evaluating on Validation set\")\n",
    "        self.Evaluate(self.model,X_val_scaled,y_val)\n",
    "        return X_test_scaled,y_test,self.model\n",
    "    \n",
    "    def Evaluate(self, model,X,y):# This function is used to evaluate the Keras based on the test data\n",
    "        print(\"evaluation Results\")\n",
    "        model.evaluate(X,y)\n",
    "        \n",
    "    def Predict(self, model,X):\n",
    "#This function is used to predict the class of the cars detected in the video\n",
    "        predicted = model.predict(X[np.newaxis, ...])\n",
    "        predicted = np.argmax(predicted, axis=1)\n",
    "        return ([k for k, v in car_label_dictionary.items() if v == predicted])"
   ]
  },
  {
   "cell_type": "markdown",
   "metadata": {},
   "source": [
    "**object_detection** class is used to run the tiny yolo model. \n",
    "1. The config file and weights file for the yiny yolo are downloaded and placed un the same directory.\n",
    "2. The threshold values are set for the confidence. If it confidence value is above the threshold only then the object will display a bounding box around the object in \n",
    "3. coco.names is used to provide the names of all the classes that can be detected using the tiny YOLO model. \n",
    "4. we then call tiny yolo on the frames created after reading the object. \n",
    "5. TinyYOLO detects the object and also returns a confidence value as to how sure it is about the detection it made\n",
    "6. If the check_class is on it will call the predict function from the above class and get the class of the car\n",
    "7. If the check is disabled it is not going to call the above class"
   ]
  },
  {
   "cell_type": "code",
   "execution_count": 6,
   "metadata": {},
   "outputs": [],
   "source": [
    "class object_detection(): ##[1]\n",
    "#     global model\n",
    "    def __init__(self):\n",
    "        self.CONFIDENCE= 0.5\n",
    "        self.SCORE_THRESHOLD = 0.5\n",
    "        self.IOU_THRESHOLD = 0.5\n",
    "        self.configPath= \"darknet\\cfg\\yolov4-tiny.cfg\"\n",
    "        self.weightsPath= \"yolov4-tiny.weights\"\n",
    "        self.font_scale=1\n",
    "        self.thickness = 1\n",
    "\n",
    "    def loadTinyYOLO(self):\n",
    "        \n",
    "        self.labels = open(\"coco.names\").read().strip().split(\"\\n\")\n",
    "        self.colors = np.random.randint(0, 255, size=(len(self.labels), 3), dtype=\"uint8\")\n",
    "        self.net = cv2.dnn.readNetFromDarknet(self.configPath, self.weightsPath)\n",
    "        ln = self.net.getLayerNames()\n",
    "        ln = [ln[i[0] - 1] for i in self.net.getUnconnectedOutLayers()]\n",
    "        return ln\n",
    "    \n",
    "    def Run_detection(self,ln,model,check_car_type=0):\n",
    "\n",
    "        car_counter=[]\n",
    "        video_file = \"assignment-clip.mp4\"\n",
    "        cap = cv2.VideoCapture(video_file)\n",
    "        start_model = time.perf_counter()\n",
    "        _, image = cap.read()\n",
    "        ht, wt = image.shape[:2]\n",
    "        if (check_car_type==1):\n",
    "            fourcc = cv2.VideoWriter_fourcc(*\"XVID\")\n",
    "            out = cv2.VideoWriter(\"Q2_KhadijaSitabkhan_Assignment1_video.avi\", fourcc, 30.0, (wt, ht))\n",
    "        else:\n",
    "            fourcc = cv2.VideoWriter_fourcc(*\"XVID\")\n",
    "            out = cv2.VideoWriter(\"Q1_KhadijaSitabkhan_Assignment1_video.avi\", fourcc, 30.0, (wt, ht))\n",
    "    \n",
    "        sedan_counter=[]\n",
    "        suv_counter=[]\n",
    "        frame_counter=[]\n",
    "        frame_number=0\n",
    "        processing_time=[]\n",
    "        while True:\n",
    "            # ret is a condition stating whether the Videocapture function was able to read or not\n",
    "            #ret == TRUE means to keep the algo going till the video is on\n",
    "            ret, image = cap.read()\n",
    "            if ret==True:\n",
    "                frame_number +=1\n",
    "                h, w = image.shape[:2]\n",
    "                blob = cv2.dnn.blobFromImage(image, 1/255.0, (416, 416), swapRB=True, crop=False)\n",
    "                self.net.setInput(blob)\n",
    "                start = time.perf_counter()\n",
    "                output_layer = self.net.forward(ln)\n",
    "                \n",
    "                boxes, confidences, class_ids = [], [], []\n",
    "                for output in output_layer:\n",
    "                    for detection in output:\n",
    "\n",
    "                        scores = detection[5:]\n",
    "                        class_id = np.argmax(scores)\n",
    "                        confidence = scores[class_id]\n",
    "                        # discard weak predictions by ensuring the detected\n",
    "                        # probability is greater than the minimum probability\n",
    "                        if confidence > self.CONFIDENCE:\n",
    "                            # scale the bounding box coordinates back relative to the\n",
    "                            # size of the image, keeping in mind that YOLO actually\n",
    "                        # returns the center (x, y)-coordinates of the bounding\n",
    "                            # box followed by the boxes' width and height\n",
    "                            box = detection[:4] * np.array([w, h, w, h])\n",
    "                            (centerX, centerY, width, height) = box.astype(\"int\")\n",
    "            \n",
    "                            # use the center (x, y)-coordinates to derive the top and\n",
    "                            # and left corner of the bounding box\n",
    "                            x = int(centerX - (width / 2))\n",
    "                            y = int(centerY - (height / 2))\n",
    "            \n",
    "                        #setting bounding box co-ordinates\n",
    "                            boxes.append([x, y, int(width), int(height)])\n",
    "                            confidences.append(float(confidence))\n",
    "                            class_ids.append(class_id)                \n",
    "            # perform the non maximum suppression given the scores defined before\n",
    "                detection = cv2.dnn.NMSBoxes(boxes, confidences, self.SCORE_THRESHOLD, self.IOU_THRESHOLD)\n",
    "        \n",
    "                font_scale = 1\n",
    "                thickness = 1\n",
    "                sedan=0\n",
    "                suv=0\n",
    "                car_per_frame=0\n",
    "                # ensure at least one detection exists\n",
    "                if len(detection) > 0: #[4]\n",
    "                    # loop over the indexes we are keeping\n",
    "                    for i in detection.flatten():\n",
    "                    # extract the bounding box coordinates\n",
    "                        x, y = boxes[i][0], boxes[i][1]\n",
    "                        w, h = boxes[i][2], boxes[i][3]\n",
    "                    # draw a bounding box rectangle and label on the image\n",
    "                        color = [int(c) for c in self.colors[class_ids[i]]]\n",
    "                        cv2.rectangle(image, (x, y), (x + w, y + h), color=color, thickness=thickness) \n",
    "                        text = f\"{self.labels[class_ids[i]]}: {confidences[i]:.2f}\"\n",
    "                        if (self.labels[class_ids[i]== \"car\"]):\n",
    "                            car_per_frame += 1\n",
    "                            \n",
    "                            if (check_car_type==1):\n",
    "                                cropped_img = image[y:y+h, x:x+w]\n",
    "                                cropped_img=cropped_img/255\n",
    "                                try:\n",
    "                                    cropped_img = cv2.resize(cropped_img,(224,224),cv2.INTER_AREA)\n",
    "                                    class_name= object_classification.Predict(self,model,cropped_img)\n",
    "                                    if (class_name[0]==\"sedan\"):\n",
    "                                        sedan +=1\n",
    "                                        text1=f\"Sedan: {confidences[i]:.2f}\"\n",
    "\n",
    "                                    else:\n",
    "                                        suv +=1\n",
    "                                        text1=f\"SUV: {confidences[i]:.2f}\"\n",
    "\n",
    "                                except:\n",
    "                                    break\n",
    "                            else:\n",
    "                                text1= f\"car: {confidences[i]:.2f}\"\n",
    "                        # calculate text width & height to draw the transparent boxes as background of the text\n",
    "                        (text_width, text_height) = cv2.getTextSize(text, cv2.FONT_HERSHEY_SIMPLEX, fontScale=font_scale, thickness=thickness)[0]\n",
    "                        text_offset_x = x\n",
    "                        text_offset_y = y - 5\n",
    "                        box_coords = ((text_offset_x, text_offset_y), (text_offset_x + text_width + 2, text_offset_y - text_height))\n",
    "                        overlay = image.copy()\n",
    "                        \n",
    "                        cv2.rectangle(overlay, box_coords[0], box_coords[1], color=color, thickness=cv2.FILLED)\n",
    "                    \n",
    "                    # add opacity (transparency to the box)\n",
    "                        image = cv2.addWeighted(overlay, 0.6, image, 0.4, 0)\n",
    "                    # now put the text (label: confidence %)\n",
    "                        cv2.putText(image, text1, (x, y - 5), cv2.FONT_HERSHEY_SIMPLEX,\n",
    "                        fontScale=font_scale, color=(0, 0, 0), thickness=thickness)\n",
    "                time_took = time.perf_counter() - start\n",
    "                processing_time.append(time_took)\n",
    "                        #elapse time is the time to identify an object in the video and classify it if required\n",
    "                elapse_time = time.perf_counter() - start\n",
    "                fps = round(frame_number/elapse_time,2)\n",
    "                if (check_car_type==1):\n",
    "\n",
    "                    annotation = \"Frame no: \"+str(frame_number)+\"\\nTotal suv: \"+str(suv)+\"\\nTotal sedan: \"+str(sedan)+\"\\nTotal cars: \"+str(sedan+suv) + \"\\nElapse time: \"+str(fps)+\" fps\"\n",
    "                else:\n",
    "\n",
    "                    annotation = \"Frame no: \"+str(frame_number)+\"\\nTotal cars: \"+str(car_per_frame)+ \"\\nElapse time: \"+str(fps)+\" fps\"\n",
    "                y0, dy = 50, 20\n",
    "                for i, line in enumerate(annotation.split('\\n')):\n",
    "                    y = y0 + i*dy\n",
    "                    cv2.putText(image, line, (50, y ), cv2.FONT_HERSHEY_SIMPLEX, 0.5,(0, 0, 0), 1)\n",
    "                frame_counter.append(frame_number)\n",
    "                car_counter.append(car_per_frame)\n",
    "                sedan_counter.append(sedan)\n",
    "                suv_counter.append(suv)\n",
    "                out.write(image)\n",
    "#                 print(\"type(image) \", type(image))\n",
    "                cv2.imshow(\"image\", image)\n",
    "                if cv2.waitKey(1) & 0xFF == ord('q'):\n",
    "                    cap.release()\n",
    "                    cv2.destroyAllWindows()\n",
    "                    break\n",
    "            else:\n",
    "                cv2.destroyAllWindows() #this will close the video output window\n",
    "                if (check_car_type==1):\n",
    "                    Predicted_values = pd.DataFrame({'frame_number' : frame_counter,\n",
    "                                                    'suv_predicted' : suv_counter,\n",
    "                                                'sedan_predicted' : sedan_counter,\n",
    "                                                'total_predicted' : np.add(suv_counter,sedan_counter),\n",
    "                                                    'processing_time' : processing_time},\n",
    "                                                    \n",
    "                                columns=['frame_number','suv_predicted','sedan_predicted', 'total_predicted','processing_time'])\n",
    "                else:\n",
    "                    Predicted_values = pd.DataFrame({'frame_number' : frame_counter,\n",
    "                                                'total_predicted' : car_counter,\n",
    "                                                     'processing_time' : processing_time}, \n",
    "                                columns=['frame_number','total_predicted','processing_time'])\n",
    "                end_model = time.perf_counter() - start_model\n",
    "                throughput= 900/end_model\n",
    "                return Predicted_values, throughput, sum(processing_time)/len(processing_time)\n",
    "                break    \n",
    "    "
   ]
  },
  {
   "cell_type": "code",
   "execution_count": null,
   "metadata": {},
   "outputs": [],
   "source": []
  },
  {
   "cell_type": "code",
   "execution_count": 7,
   "metadata": {
    "scrolled": true
   },
   "outputs": [
    {
     "name": "stdout",
     "output_type": "stream",
     "text": [
      "Image count in Data set is  1147\n",
      "Model: \"sequential_1\"\n",
      "_________________________________________________________________\n",
      "Layer (type)                 Output Shape              Param #   \n",
      "=================================================================\n",
      "keras_layer_1 (KerasLayer)   (None, 1280)              2257984   \n",
      "_________________________________________________________________\n",
      "flatten (Flatten)            (None, 1280)              0         \n",
      "_________________________________________________________________\n",
      "dense (Dense)                (None, 128)               163968    \n",
      "_________________________________________________________________\n",
      "dense_1 (Dense)              (None, 2)                 258       \n",
      "=================================================================\n",
      "Total params: 2,422,210\n",
      "Trainable params: 164,226\n",
      "Non-trainable params: 2,257,984\n",
      "_________________________________________________________________\n",
      "Epoch 1/10\n",
      "18/18 [==============================] - 25s 844ms/step - loss: 0.6256 - acc: 0.7047\n",
      "Epoch 2/10\n",
      "18/18 [==============================] - 15s 845ms/step - loss: 0.2326 - acc: 0.9042\n",
      "Epoch 3/10\n",
      "18/18 [==============================] - 15s 840ms/step - loss: 0.1243 - acc: 0.9790\n",
      "Epoch 4/10\n",
      "18/18 [==============================] - 15s 845ms/step - loss: 0.0596 - acc: 0.9922\n",
      "Epoch 5/10\n",
      "18/18 [==============================] - 15s 837ms/step - loss: 0.0431 - acc: 0.9969\n",
      "Epoch 6/10\n",
      "18/18 [==============================] - 15s 837ms/step - loss: 0.0284 - acc: 0.9972\n",
      "Epoch 7/10\n",
      "18/18 [==============================] - 15s 841ms/step - loss: 0.0174 - acc: 0.9988\n",
      "Epoch 8/10\n",
      "18/18 [==============================] - 15s 840ms/step - loss: 0.0130 - acc: 1.0000\n",
      "Epoch 9/10\n",
      "18/18 [==============================] - 15s 834ms/step - loss: 0.0089 - acc: 1.0000\n",
      "Epoch 10/10\n",
      "18/18 [==============================] - 13s 691ms/step - loss: 0.0067 - acc: 1.0000\n",
      "Evaluating on Validation set\n",
      "evaluation Results\n",
      "8/8 [==============================] - 7s 685ms/step - loss: 0.0767 - acc: 0.9793\n"
     ]
    }
   ],
   "source": [
    "objClass = object_classification()\n",
    "# objClass.TrainClassifier()\n",
    "X_test_scaled,y_test,model=objClass.TrainClassifier()\n",
    "#objClass.Evaluate(mode)"
   ]
  },
  {
   "cell_type": "code",
   "execution_count": 8,
   "metadata": {},
   "outputs": [
    {
     "name": "stdout",
     "output_type": "stream",
     "text": [
      "Evaulating on test Data set\n",
      "evaluation Results\n",
      "11/11 [==============================] - 7s 674ms/step - loss: 0.1606 - acc: 0.9594\n"
     ]
    }
   ],
   "source": [
    "print(\"Evaulating on test Data set\")\n",
    "objClass.Evaluate(model,X_test_scaled,y_test)"
   ]
  },
  {
   "cell_type": "code",
   "execution_count": 9,
   "metadata": {},
   "outputs": [
    {
     "name": "stdout",
     "output_type": "stream",
     "text": [
      "Throughput of the model with classification is 1.85 frames per second\n",
      "\n",
      " Average time for object detection of tinyYolo Model is 0.522 seconds\n"
     ]
    }
   ],
   "source": [
    "obj1 = object_detection()\n",
    "ln = obj1.loadTinyYOLO()\n",
    "Predicted,throughput,average_time = obj1.Run_detection(ln,model, 1)\n",
    "\n",
    "print(f\"Throughput of the model with classification is {round(throughput,2)} frames per second\")\n",
    "print(f\"\\n Average time for object detection of tinyYolo Model is {round(average_time,3)} seconds\")"
   ]
  },
  {
   "cell_type": "markdown",
   "metadata": {},
   "source": [
    "Reading the data grom the ground truth given"
   ]
  },
  {
   "cell_type": "code",
   "execution_count": 10,
   "metadata": {},
   "outputs": [],
   "source": [
    "import pandas as pd\n",
    "ground_Truth = pd.read_excel (r'Groundtruth.xlsx')\n",
    "\n",
    "ground_Truth.drop(ground_Truth.head(1).index,inplace=True)\n"
   ]
  },
  {
   "cell_type": "code",
   "execution_count": 11,
   "metadata": {},
   "outputs": [
    {
     "name": "stdout",
     "output_type": "stream",
     "text": [
      "f1 score of the object detection(with classification) algorithm is 48.44\n"
     ]
    }
   ],
   "source": [
    "from sklearn.metrics import f1_score\n",
    "F1_TOTAL =f1_score(ground_Truth[\"Total\"], Predicted[\"total_predicted\"], average='weighted')\n",
    "    \n",
    "print(f\"f1 score of the object detection(with classification) algorithm is {round(F1_TOTAL*100,2)}\")  "
   ]
  },
  {
   "cell_type": "code",
   "execution_count": 12,
   "metadata": {},
   "outputs": [
    {
     "name": "stdout",
     "output_type": "stream",
     "text": [
      "f1 score of the SUV cars detected in the classification algorithm is  8.44\n"
     ]
    }
   ],
   "source": [
    "F1_SUV =f1_score(ground_Truth[\"SUV\"], Predicted[\"suv_predicted\"], average='weighted')\n",
    "print(f\"f1 score of the SUV cars detected in the classification algorithm is  {round(F1_SUV*100,2)}\")  "
   ]
  },
  {
   "cell_type": "code",
   "execution_count": 13,
   "metadata": {},
   "outputs": [
    {
     "name": "stdout",
     "output_type": "stream",
     "text": [
      "f1 score of the sedan cars detected in the classification algorithm is 24.75\n"
     ]
    }
   ],
   "source": [
    "F1_SEDAN =f1_score(ground_Truth[\"Sedan\"], Predicted[\"sedan_predicted\"], average='weighted')\n",
    "print(f\"f1 score of the sedan cars detected in the classification algorithm is {round(F1_SEDAN*100,2)}\")  "
   ]
  },
  {
   "cell_type": "code",
   "execution_count": 14,
   "metadata": {},
   "outputs": [
    {
     "name": "stdout",
     "output_type": "stream",
     "text": [
      "Throughput of the model without classification is 7.44 frames per second\n",
      "\n",
      " Average time for object detection of tinyYolo Model is 0.12 secs\n"
     ]
    }
   ],
   "source": [
    "#Running only Object detector\n",
    "Predict_detection,throughput,average_time = obj1.Run_detection(ln,model, 0)\n",
    "\n",
    "print(f\"Throughput of the model without classification is {round(throughput,2)} frames per second\")\n",
    "print(f\"\\n Average time for object detection of tinyYolo Model is {round(average_time,2)} secs\")"
   ]
  },
  {
   "cell_type": "code",
   "execution_count": 15,
   "metadata": {},
   "outputs": [
    {
     "name": "stdout",
     "output_type": "stream",
     "text": [
      "f1 score of the object detection algorithm is 50.33\n"
     ]
    }
   ],
   "source": [
    "F1_TOTAL =f1_score(ground_Truth[\"Total\"], Predict_detection[\"total_predicted\"], average='weighted')\n",
    "    \n",
    "print(f\"f1 score of the object detection algorithm is {round(F1_TOTAL*100,2)}\")  "
   ]
  },
  {
   "cell_type": "code",
   "execution_count": 16,
   "metadata": {},
   "outputs": [],
   "source": [
    "def accuracy(y_test,y_predicted):\n",
    "    y_test=np.array(y_test)\n",
    "    y_predicted = np.array(y_predicted)\n",
    "    score=0\n",
    "    for i in range(0, len(y_predicted)-1):\n",
    "        if (y_predicted[i]==y_test[i]):\n",
    "            score=score+1\n",
    "    score = score / len(y_test)\n",
    "    return(round(score*100,2))\n",
    "    \n"
   ]
  },
  {
   "cell_type": "markdown",
   "metadata": {},
   "source": [
    "Checking accuracy for the classification model"
   ]
  },
  {
   "cell_type": "code",
   "execution_count": 17,
   "metadata": {},
   "outputs": [
    {
     "name": "stdout",
     "output_type": "stream",
     "text": [
      "accuracy of the classification model is 46.16\n"
     ]
    }
   ],
   "source": [
    "accuracy_ = accuracy(ground_Truth[\"Total\"], Predicted[\"total_predicted\"])\n",
    "print(f\"accuracy of the classification model is {accuracy_}\")"
   ]
  },
  {
   "cell_type": "markdown",
   "metadata": {},
   "source": [
    "Checking accuracy of the detection model"
   ]
  },
  {
   "cell_type": "code",
   "execution_count": 18,
   "metadata": {},
   "outputs": [
    {
     "name": "stdout",
     "output_type": "stream",
     "text": [
      "accuracy of the detection model is 49.28\n"
     ]
    }
   ],
   "source": [
    "accuracy_ = accuracy(ground_Truth[\"Total\"], Predict_detection[\"total_predicted\"])\n",
    "print(f\"accuracy of the detection model is {accuracy_}\")"
   ]
  },
  {
   "cell_type": "markdown",
   "metadata": {},
   "source": [
    "Writing all data to the excel sheet named output.xlxs"
   ]
  },
  {
   "cell_type": "code",
   "execution_count": 19,
   "metadata": {},
   "outputs": [],
   "source": [
    "with pd.ExcelWriter('output.xlsx') as writer:  \n",
    "    ground_Truth.to_excel(writer, sheet_name='Given_data')\n",
    "    Predict_detection.to_excel(writer, sheet_name='Detection')\n",
    "    Predicted.to_excel(writer, sheet_name='Classification')\n",
    "    "
   ]
  },
  {
   "cell_type": "markdown",
   "metadata": {},
   "source": [
    "Graph of object detection time each frame was processed to detect objects "
   ]
  },
  {
   "cell_type": "code",
   "execution_count": 20,
   "metadata": {},
   "outputs": [
    {
     "data": {
      "image/png": "[encoded data removed]",
      "text/plain": [
       "<Figure size 432x288 with 1 Axes>"
      ]
     },
     "metadata": {
      "needs_background": "light"
     },
     "output_type": "display_data"
    }
   ],
   "source": [
    "x = Predict_detection[\"frame_number\"]\n",
    "y = Predict_detection[\"processing_time\"]\n",
    "\n",
    "import matplotlib.pyplot as plt\n",
    "plt.plot(x,y)\n",
    "plt.title('Processing time per frame of Detection Model')\n",
    "plt.xlabel('Frame Number')\n",
    "plt.ylabel('Processign time')\n",
    "plt.show()"
   ]
  },
  {
   "cell_type": "markdown",
   "metadata": {},
   "source": [
    "Graph of the object detection when classification is also run"
   ]
  },
  {
   "cell_type": "code",
   "execution_count": 21,
   "metadata": {},
   "outputs": [
    {
     "data": {
      "image/png": "[encoded data removed]",
      "text/plain": [
       "<Figure size 432x288 with 1 Axes>"
      ]
     },
     "metadata": {
      "needs_background": "light"
     },
     "output_type": "display_data"
    }
   ],
   "source": [
    "x = Predicted[\"frame_number\"]\n",
    "y = Predicted[\"processing_time\"]\n",
    "plt.plot(x,y)\n",
    "plt.title('Processing time per frame of Classification Model')\n",
    "plt.xlabel('Frame Number')\n",
    "plt.ylabel('Processign time')\n",
    "plt.show()"
   ]
  },
  {
   "cell_type": "markdown",
   "metadata": {},
   "source": [
    "## References\n",
    "\n",
    "<br>[1] Object Detection using YOLO: https://www.thepythoncode.com/code/yolo-object-detection-with-opencv-and-pytorch-in-python\n",
    "<br>[2] Download bulk Images: https://github.com/ostrolucky/Bulk-Bing-Image-downloader\n",
    "<br>[3] TransferLearning using Keras: https://github.com/codebasics/deep-learning-keras-tf-tutorial/blob/master/18_transfer_learning/cnn_transfer_learning.ipynb\n",
    "<br>[4] Object Detection using YOLO & OpenCV: https://www.mygreatlearning.com/blog/yolo-object-detection-using-opencv/\n",
    "<br> [5] Implementation of producer consumer model https://www.agiliq.com/blog/2013/10/producer-consumer-problem-in-python/#:~:text=The%20problem%20describes%20two%20processes,adds%20it%20to%20the%20queue.\n",
    "\n",
    "\n"
   ]
  },
  {
   "cell_type": "code",
   "execution_count": null,
   "metadata": {},
   "outputs": [],
   "source": []
  },
  {
   "cell_type": "code",
   "execution_count": null,
   "metadata": {},
   "outputs": [],
   "source": []
  },
  {
   "cell_type": "code",
   "execution_count": null,
   "metadata": {},
   "outputs": [],
   "source": []
  },
  {
   "cell_type": "code",
   "execution_count": null,
   "metadata": {},
   "outputs": [],
   "source": []
  },
  {
   "cell_type": "code",
   "execution_count": null,
   "metadata": {},
   "outputs": [],
   "source": []
  },
  {
   "cell_type": "code",
   "execution_count": null,
   "metadata": {},
   "outputs": [],
   "source": []
  }
 ],
 "metadata": {
  "kernelspec": {
   "display_name": "Python 3",
   "language": "python",
   "name": "python3"
  },
  "language_info": {
   "codemirror_mode": {
    "name": "ipython",
    "version": 3
   },
   "file_extension": ".py",
   "mimetype": "text/x-python",
   "name": "python",
   "nbconvert_exporter": "python",
   "pygments_lexer": "ipython3",
   "version": "3.8.3"
  }
 },
 "nbformat": 4,
 "nbformat_minor": 4
}
